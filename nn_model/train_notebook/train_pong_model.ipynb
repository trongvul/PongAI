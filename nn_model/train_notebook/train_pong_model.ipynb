{
  "nbformat": 4,
  "nbformat_minor": 0,
  "metadata": {
    "colab": {
      "name": "train_pong_model.ipynb",
      "provenance": [],
      "collapsed_sections": []
    },
    "kernelspec": {
      "name": "python3",
      "display_name": "Python 3"
    },
    "language_info": {
      "name": "python"
    }
  },
  "cells": [
    {
      "cell_type": "code",
      "execution_count": 133,
      "metadata": {
        "colab": {
          "base_uri": "https://localhost:8080/"
        },
        "id": "BuOlx29d9ujg",
        "outputId": "aa4c2caa-1989-4ae9-b38c-cf6de09bf735"
      },
      "outputs": [
        {
          "output_type": "stream",
          "name": "stdout",
          "text": [
            "Archive:  data.zip\n",
            "   creating: data/\n",
            "  inflating: data/label.txt          \n",
            "  inflating: data/input_data.txt     \n",
            "   creating: __MACOSX/\n",
            "   creating: __MACOSX/data/\n",
            "  inflating: __MACOSX/data/._input_data.txt  \n"
          ]
        }
      ],
      "source": [
        "!unzip data.zip"
      ]
    },
    {
      "cell_type": "code",
      "source": [
        "import tensorflow \n",
        "from tensorflow import keras\n",
        "import numpy as np"
      ],
      "metadata": {
        "id": "ILfcVuk3-mMi"
      },
      "execution_count": 3,
      "outputs": []
    },
    {
      "cell_type": "code",
      "source": [
        "INPUT_FILE_PATH = './data/input_data.txt'\n",
        "LABEL_FILE_PATH = './data/label.txt'\n",
        "DATA_SIZE = 15000\n",
        "\n",
        "def _str_to_float_list(l):\n",
        "  for i in range(len(l)):\n",
        "    l[i] = float(l[i])\n",
        "  return l\n",
        "\n",
        "# Read data from a text file\n",
        "def prepare_data(filename):\n",
        "  input_data = []\n",
        "  with open(filename, 'r') as f:\n",
        "    lines = f.readlines()\n",
        "    for line in lines:\n",
        "      data = line.split()\n",
        "      data = _str_to_float_list(data)\n",
        "      input_data.append(data)\n",
        "  return input_data\n",
        "\n",
        "input_data = prepare_data(INPUT_FILE_PATH)\n",
        "labels = prepare_data(LABEL_FILE_PATH)\n",
        "input_data = np.array(input_data)\n",
        "labels = np.array(labels)\n",
        "\n",
        "# Shuffle the data\n",
        "indices_permutation = np.random.permutation(len(input_data))\n",
        "shuffled_input_data = input_data[indices_permutation]\n",
        "shuffled_labels = labels[indices_permutation]\n",
        "\n",
        "input_data = input_data[:DATA_SIZE]\n",
        "labels = labels[:DATA_SIZE]\n",
        "\n",
        "\n",
        "print(f\"Number of input data: {len(input_data)}\")\n",
        "print(f\"Number of label data: {len(labels)}\")"
      ],
      "metadata": {
        "colab": {
          "base_uri": "https://localhost:8080/"
        },
        "id": "czdx4XD2-izx",
        "outputId": "98bce1a2-2834-4f4d-bdbd-445814dda51c"
      },
      "execution_count": 134,
      "outputs": [
        {
          "output_type": "stream",
          "name": "stdout",
          "text": [
            "Number of input data: 15000\n",
            "Number of label data: 15000\n"
          ]
        }
      ]
    },
    {
      "cell_type": "code",
      "source": [
        "# Split data into training and validation set\n",
        "x_train = input_data[:12000]\n",
        "y_train = labels[:12000]\n",
        "y_train = np.reshape(y_train, (-1,))\n",
        "\n",
        "x_val = input_data[12000:]\n",
        "y_val = labels[12000:]\n",
        "y_val = np.reshape(y_val, (-1,))\n",
        "\n",
        "print(f\"Shape of training data: {x_train.shape}\")\n",
        "print(f\"Shape of training labels: {y_train.shape}\")\n",
        "print(f\"Shape of validation data: {x_val.shape}\")\n",
        "print(f\"Shape of valiation labels: {y_val.shape}\")"
      ],
      "metadata": {
        "colab": {
          "base_uri": "https://localhost:8080/"
        },
        "id": "605KWE2vHCsA",
        "outputId": "67543efd-c89f-4d84-d9c6-00c446f67095"
      },
      "execution_count": 135,
      "outputs": [
        {
          "output_type": "stream",
          "name": "stdout",
          "text": [
            "Shape of training data: (12000, 5)\n",
            "Shape of training labels: (12000,)\n",
            "Shape of validation data: (3000, 5)\n",
            "Shape of valiation labels: (3000,)\n"
          ]
        }
      ]
    },
    {
      "cell_type": "code",
      "source": [
        "def build_model():\n",
        "  model = keras.models.Sequential()\n",
        "  model.add(keras.layers.Dense(16, activation='relu', input_shape=(5,)))\n",
        "  model.add(keras.layers.Dense(1, activation='sigmoid'))\n",
        "\n",
        "  model.compile(optimizer= keras.optimizers.Adam(),\n",
        "              loss= keras.losses.BinaryCrossentropy(),\n",
        "              metrics=keras.metrics.BinaryAccuracy())\n",
        "  return model\n",
        "\n",
        "model = build_model()"
      ],
      "metadata": {
        "id": "tUpWavR1BitY"
      },
      "execution_count": 136,
      "outputs": []
    },
    {
      "cell_type": "code",
      "source": [
        "model.summary()"
      ],
      "metadata": {
        "colab": {
          "base_uri": "https://localhost:8080/"
        },
        "id": "yRxoNI2cLX4m",
        "outputId": "d3260230-67d1-4364-8e9c-4f05aa94f3d9"
      },
      "execution_count": 137,
      "outputs": [
        {
          "output_type": "stream",
          "name": "stdout",
          "text": [
            "Model: \"sequential_15\"\n",
            "_________________________________________________________________\n",
            " Layer (type)                Output Shape              Param #   \n",
            "=================================================================\n",
            " dense_28 (Dense)            (None, 16)                96        \n",
            "                                                                 \n",
            " dense_29 (Dense)            (None, 1)                 17        \n",
            "                                                                 \n",
            "=================================================================\n",
            "Total params: 113\n",
            "Trainable params: 113\n",
            "Non-trainable params: 0\n",
            "_________________________________________________________________\n"
          ]
        }
      ]
    },
    {
      "cell_type": "code",
      "source": [
        "history = model.fit(x_train, y_train, epochs=10, batch_size=16, validation_data=(x_val, y_val))"
      ],
      "metadata": {
        "colab": {
          "base_uri": "https://localhost:8080/"
        },
        "id": "LKLcCATk_tMB",
        "outputId": "513434b5-b61b-4263-ddaa-1dcad8523cc7"
      },
      "execution_count": 138,
      "outputs": [
        {
          "output_type": "stream",
          "name": "stdout",
          "text": [
            "Epoch 1/10\n",
            "750/750 [==============================] - 2s 2ms/step - loss: 3.0773 - binary_accuracy: 0.8000 - val_loss: 0.0528 - val_binary_accuracy: 0.9780\n",
            "Epoch 2/10\n",
            "750/750 [==============================] - 2s 2ms/step - loss: 0.0258 - binary_accuracy: 0.9943 - val_loss: 0.0053 - val_binary_accuracy: 1.0000\n",
            "Epoch 3/10\n",
            "750/750 [==============================] - 2s 2ms/step - loss: 0.0074 - binary_accuracy: 0.9998 - val_loss: 0.0018 - val_binary_accuracy: 1.0000\n",
            "Epoch 4/10\n",
            "750/750 [==============================] - 2s 2ms/step - loss: 0.0038 - binary_accuracy: 0.9998 - val_loss: 8.7226e-04 - val_binary_accuracy: 1.0000\n",
            "Epoch 5/10\n",
            "750/750 [==============================] - 2s 2ms/step - loss: 0.0026 - binary_accuracy: 0.9998 - val_loss: 4.5267e-04 - val_binary_accuracy: 1.0000\n",
            "Epoch 6/10\n",
            "750/750 [==============================] - 2s 2ms/step - loss: 0.0020 - binary_accuracy: 0.9998 - val_loss: 2.3960e-04 - val_binary_accuracy: 1.0000\n",
            "Epoch 7/10\n",
            "750/750 [==============================] - 1s 2ms/step - loss: 0.0038 - binary_accuracy: 0.9992 - val_loss: 0.0142 - val_binary_accuracy: 1.0000\n",
            "Epoch 8/10\n",
            "750/750 [==============================] - 2s 2ms/step - loss: 0.0022 - binary_accuracy: 0.9998 - val_loss: 3.5886e-04 - val_binary_accuracy: 1.0000\n",
            "Epoch 9/10\n",
            "750/750 [==============================] - 2s 2ms/step - loss: 0.0016 - binary_accuracy: 0.9998 - val_loss: 4.0454e-05 - val_binary_accuracy: 1.0000\n",
            "Epoch 10/10\n",
            "750/750 [==============================] - 2s 2ms/step - loss: 0.0137 - binary_accuracy: 0.9973 - val_loss: 6.2842e-06 - val_binary_accuracy: 1.0000\n"
          ]
        }
      ]
    },
    {
      "cell_type": "code",
      "source": [
        "import matplotlib.pyplot as plt\n",
        "\n",
        "history_dict = history.history\n",
        "loss_values = history_dict[\"loss\"]\n",
        "val_loss_values = history_dict[\"val_loss\"]\n",
        "epochs = range(1, len(loss_values) + 1)\n",
        "plt.plot(epochs, loss_values, \"bo\", label=\"Training loss\")\n",
        "plt.plot(epochs, val_loss_values, \"b\", label=\"Validation loss\")\n",
        "plt.title(\"Training and validation loss\")\n",
        "plt.xlabel(\"Epochs\")\n",
        "plt.ylabel(\"Loss\")\n",
        "plt.legend()\n",
        "plt.show()"
      ],
      "metadata": {
        "colab": {
          "base_uri": "https://localhost:8080/",
          "height": 295
        },
        "id": "zRt0Ca4nMY4c",
        "outputId": "12a71967-1e55-4d42-db41-0a9b5fce946e"
      },
      "execution_count": 139,
      "outputs": [
        {
          "output_type": "display_data",
          "data": {
            "image/png": "[encoded data removed]",
            "text/plain": [
              "<Figure size 432x288 with 1 Axes>"
            ]
          },
          "metadata": {
            "needs_background": "light"
          }
        }
      ]
    },
    {
      "cell_type": "code",
      "source": [
        "model.save_weights('model_weights.h5')"
      ],
      "metadata": {
        "id": "_xtnofWfNT2p"
      },
      "execution_count": 140,
      "outputs": []
    }
  ]
}